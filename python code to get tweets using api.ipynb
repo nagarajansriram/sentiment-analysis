{
 "cells": [
  {
   "cell_type": "code",
   "execution_count": null,
   "metadata": {},
   "outputs": [],
   "source": [
    "\n",
    "#!/usr/bin/env python\n",
    "# -*- coding: utf-8 -*-\n",
    "\n",
    "import sys\n",
    "import csv\n",
    "\n",
    "#http://www.tweepy.org/\n",
    "import tweepy\n",
    "\n",
    "#Get your Twitter API credentials and enter them here\n",
    "consumer_key = \"\"\n",
    "consumer_secret = \"\"\n",
    "access_key = \"\"\n",
    "access_secret = \"\"\n",
    "\n",
    "#method to get a user's last tweets\n",
    "def get_tweets(username):\n",
    "\n",
    "\t#http://tweepy.readthedocs.org/en/v3.1.0/getting_started.html#api\n",
    "\tauth = tweepy.OAuthHandler(consumer_key, consumer_secret)\n",
    "\tauth.set_access_token(access_key, access_secret)\n",
    "\tapi = tweepy.API(auth)\n",
    "\n",
    "\t#set count to however rows of tweets you want\n",
    "\tnumber_of_tweets = 1000\n",
    "\n",
    "\t#get tweets\n",
    "\ttweets_for_csv = []\n",
    "\tfor tweet in tweepy.Cursor(api.user_timeline, screen_name = username).items(number_of_tweets):\n",
    "        #create array of tweet information: username, tweet id, date/time, text\n",
    "\t\ttweets_for_csv.append([username, tweet.id_str, tweet.created_at, tweet.text.encode(\"utf-8\")])\n",
    "\n",
    "\t#write to a new csv file from the array of tweets\n",
    "\toutfile = username + \"_tweets.csv\"\n",
    "\tprint (\"writing to \" + outfile)\n",
    "\twith open(outfile, 'w+') as file:\n",
    "\t\twriter = csv.writer(file, delimiter=',')\n",
    "\t\twriter.writerows(tweets_for_csv)\n",
    "\n",
    "\n",
    "#if we're running this as a script\n",
    "if __name__ == '__main__':\n",
    "\n",
    "    #get tweets for username passed at command line\n",
    "#    if len(sys.argv) == 2:\n",
    " #       get_tweets(sys.argv[1])\n",
    "  #  else:\n",
    "   #     print (\"Error: enter one username\")\n",
    "\n",
    "    #alternative method: loop through multiple users\n",
    "\t users = ['makeinindia'] #\n",
    "\n",
    "\t for user in users:\n",
    "\t \tget_tweets(user)\n"
   ]
  }
 ],
 "metadata": {
  "kernelspec": {
   "display_name": "Python 3",
   "language": "python",
   "name": "python3"
  },
  "language_info": {
   "codemirror_mode": {
    "name": "ipython",
    "version": 3
   },
   "file_extension": ".py",
   "mimetype": "text/x-python",
   "name": "python",
   "nbconvert_exporter": "python",
   "pygments_lexer": "ipython3",
   "version": "3.7.1"
  }
 },
 "nbformat": 4,
 "nbformat_minor": 2
}
