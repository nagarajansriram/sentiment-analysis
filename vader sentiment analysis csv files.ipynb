{
 "cells": [
  {
   "cell_type": "code",
   "execution_count": null,
   "metadata": {},
   "outputs": [],
   "source": [
    "https://www.kaggle.com/priyaananthram/sentiment-analysis-of-tweets"
   ]
  },
  {
   "cell_type": "code",
   "execution_count": 47,
   "metadata": {},
   "outputs": [],
   "source": [
    "import numpy as np # linear algebra\n",
    "import pandas as pd # data processing, CSV file I/O (e.g. pd.read_csv)\n",
    "import csv\n",
    "import plotly"
   ]
  },
  {
   "cell_type": "code",
   "execution_count": 48,
   "metadata": {},
   "outputs": [
    {
     "data": {
      "text/html": [
       "<div>\n",
       "<style scoped>\n",
       "    .dataframe tbody tr th:only-of-type {\n",
       "        vertical-align: middle;\n",
       "    }\n",
       "\n",
       "    .dataframe tbody tr th {\n",
       "        vertical-align: top;\n",
       "    }\n",
       "\n",
       "    .dataframe thead th {\n",
       "        text-align: right;\n",
       "    }\n",
       "</style>\n",
       "<table border=\"1\" class=\"dataframe\">\n",
       "  <thead>\n",
       "    <tr style=\"text-align: right;\">\n",
       "      <th></th>\n",
       "      <th>Unnamed: 0</th>\n",
       "      <th>Unnamed: 1</th>\n",
       "      <th>Unnamed: 2</th>\n",
       "      <th>tweets</th>\n",
       "      <th>tidy_tweets</th>\n",
       "      <th>sentiment</th>\n",
       "    </tr>\n",
       "  </thead>\n",
       "  <tbody>\n",
       "    <tr>\n",
       "      <th>0</th>\n",
       "      <td>makeinindia</td>\n",
       "      <td>1.099597e+18</td>\n",
       "      <td>2019-02-24 09:10:47</td>\n",
       "      <td>b'RT @DRDO_India: Indian badminton star @Pvsin...</td>\n",
       "      <td>NaN</td>\n",
       "      <td>NaN</td>\n",
       "    </tr>\n",
       "    <tr>\n",
       "      <th>1</th>\n",
       "      <td>makeinindia</td>\n",
       "      <td>1.099597e+18</td>\n",
       "      <td>2019-02-24 09:10:01</td>\n",
       "      <td>b'RT @narendramodi: India missed the bus when ...</td>\n",
       "      <td>NaN</td>\n",
       "      <td>NaN</td>\n",
       "    </tr>\n",
       "    <tr>\n",
       "      <th>2</th>\n",
       "      <td>makeinindia</td>\n",
       "      <td>1.099597e+18</td>\n",
       "      <td>2019-02-24 09:10:00</td>\n",
       "      <td>b'RT @PMOIndia: We look forward to making Indi...</td>\n",
       "      <td>NaN</td>\n",
       "      <td>NaN</td>\n",
       "    </tr>\n",
       "    <tr>\n",
       "      <th>3</th>\n",
       "      <td>makeinindia</td>\n",
       "      <td>1.099597e+18</td>\n",
       "      <td>2019-02-24 09:09:58</td>\n",
       "      <td>b'RT @PMOIndia: We want to give our people ene...</td>\n",
       "      <td>NaN</td>\n",
       "      <td>NaN</td>\n",
       "    </tr>\n",
       "    <tr>\n",
       "      <th>4</th>\n",
       "      <td>makeinindia</td>\n",
       "      <td>1.099206e+18</td>\n",
       "      <td>2019-02-23 07:16:55</td>\n",
       "      <td>b\"RT @DDNewsHindi: \\xe0\\xa4\\xa1\\xe0\\xa5\\x80\\xe...</td>\n",
       "      <td>NaN</td>\n",
       "      <td>NaN</td>\n",
       "    </tr>\n",
       "  </tbody>\n",
       "</table>\n",
       "</div>"
      ],
      "text/plain": [
       "    Unnamed: 0    Unnamed: 1           Unnamed: 2  \\\n",
       "0  makeinindia  1.099597e+18  2019-02-24 09:10:47   \n",
       "1  makeinindia  1.099597e+18  2019-02-24 09:10:01   \n",
       "2  makeinindia  1.099597e+18  2019-02-24 09:10:00   \n",
       "3  makeinindia  1.099597e+18  2019-02-24 09:09:58   \n",
       "4  makeinindia  1.099206e+18  2019-02-23 07:16:55   \n",
       "\n",
       "                                              tweets  tidy_tweets  sentiment  \n",
       "0  b'RT @DRDO_India: Indian badminton star @Pvsin...          NaN        NaN  \n",
       "1  b'RT @narendramodi: India missed the bus when ...          NaN        NaN  \n",
       "2  b'RT @PMOIndia: We look forward to making Indi...          NaN        NaN  \n",
       "3  b'RT @PMOIndia: We want to give our people ene...          NaN        NaN  \n",
       "4  b\"RT @DDNewsHindi: \\xe0\\xa4\\xa1\\xe0\\xa5\\x80\\xe...          NaN        NaN  "
      ]
     },
     "execution_count": 48,
     "metadata": {},
     "output_type": "execute_result"
    }
   ],
   "source": [
    "#from subprocess import check_output\n",
    "#print(check_output([\"ls\", \"../input\"]).decode(\"utf8\"))\n",
    "\n",
    "# Any results you write to the current directory are saved as output.\n",
    "tweets=pd.read_csv('/home/sriram/Documents/testingindia3 (3rd copy).csv')\n",
    "tweets.head()"
   ]
  },
  {
   "cell_type": "code",
   "execution_count": 56,
   "metadata": {},
   "outputs": [
    {
     "ename": "AttributeError",
     "evalue": "'module' object has no attribute 'tweets'",
     "output_type": "error",
     "traceback": [
      "\u001b[1;31m---------------------------------------------------------------------------\u001b[0m",
      "\u001b[1;31mAttributeError\u001b[0m                            Traceback (most recent call last)",
      "\u001b[1;32m<ipython-input-56-4e1f850c15db>\u001b[0m in \u001b[0;36m<module>\u001b[1;34m()\u001b[0m\n\u001b[1;32m----> 1\u001b[1;33m \u001b[1;32mprint\u001b[0m\u001b[1;33m(\u001b[0m\u001b[0mpd\u001b[0m\u001b[1;33m.\u001b[0m\u001b[0mtweets\u001b[0m\u001b[1;33m(\u001b[0m\u001b[1;36m0\u001b[0m\u001b[1;33m)\u001b[0m\u001b[1;33m)\u001b[0m\u001b[1;33m\u001b[0m\u001b[0m\n\u001b[0m",
      "\u001b[1;31mAttributeError\u001b[0m: 'module' object has no attribute 'tweets'"
     ]
    }
   ],
   "source": [
    "print(tweets(0))"
   ]
  },
  {
   "cell_type": "code",
   "execution_count": 42,
   "metadata": {},
   "outputs": [],
   "source": [
    "def remove_pattern(input_txt, pattern):\n",
    "    r = re.findall(pattern, input_txt)\n",
    "    for i in r:\n",
    "        input_txt = re.sub(i, '', input_txt)\n",
    "        \n",
    "    return input_txt"
   ]
  },
  {
   "cell_type": "code",
   "execution_count": null,
   "metadata": {},
   "outputs": [],
   "source": [
    "train[\"tidy_tweet\"] = np.vectorize(remove_pattern)(train[\"tweets\"], \"@[\\w]*\")\n",
    "\n",
    "\n",
    "train['tidy_tweet'] = train['tidy_tweet'].str.replace(\"[^a-zA-Z#]\", \" \")\n",
    "\n",
    "train['tidy_tweet'] = train['tidy_tweet'].apply(lambda x: ' '.join([w for w in x.split() if len(w)>3]))"
   ]
  },
  {
   "cell_type": "code",
   "execution_count": 32,
   "metadata": {},
   "outputs": [],
   "source": [
    "from nltk.sentiment.vader import SentimentIntensityAnalyzer\n",
    "from nltk.sentiment.util import *\n",
    "\n",
    "from nltk import tokenize"
   ]
  },
  {
   "cell_type": "code",
   "execution_count": 35,
   "metadata": {},
   "outputs": [],
   "source": [
    "import nltk"
   ]
  },
  {
   "cell_type": "code",
   "execution_count": 33,
   "metadata": {},
   "outputs": [
    {
     "name": "stderr",
     "output_type": "stream",
     "text": [
      "[nltk_data] Downloading package vader_lexicon to\n",
      "[nltk_data]     /home/sriram/nltk_data...\n",
      "[nltk_data]   Package vader_lexicon is already up-to-date!\n"
     ]
    },
    {
     "data": {
      "text/plain": [
       "True"
      ]
     },
     "execution_count": 33,
     "metadata": {},
     "output_type": "execute_result"
    }
   ],
   "source": [
    "nltk.download('vader_lexicon')"
   ]
  },
  {
   "cell_type": "code",
   "execution_count": 34,
   "metadata": {},
   "outputs": [],
   "source": [
    "sid = SentimentIntensityAnalyzer()\n"
   ]
  },
  {
   "cell_type": "code",
   "execution_count": 36,
   "metadata": {},
   "outputs": [
    {
     "data": {
      "text/html": [
       "<div>\n",
       "<style scoped>\n",
       "    .dataframe tbody tr th:only-of-type {\n",
       "        vertical-align: middle;\n",
       "    }\n",
       "\n",
       "    .dataframe tbody tr th {\n",
       "        vertical-align: top;\n",
       "    }\n",
       "\n",
       "    .dataframe thead th {\n",
       "        text-align: right;\n",
       "    }\n",
       "</style>\n",
       "<table border=\"1\" class=\"dataframe\">\n",
       "  <thead>\n",
       "    <tr style=\"text-align: right;\">\n",
       "      <th></th>\n",
       "      <th>Unnamed: 0</th>\n",
       "      <th>Unnamed: 1</th>\n",
       "      <th>Unnamed: 2</th>\n",
       "      <th>tweets</th>\n",
       "      <th>sentiment</th>\n",
       "      <th>sentiment_compound_polarity</th>\n",
       "      <th>sentiment_neutral</th>\n",
       "      <th>sentiment_negative</th>\n",
       "      <th>sentiment_pos</th>\n",
       "    </tr>\n",
       "  </thead>\n",
       "  <tbody>\n",
       "    <tr>\n",
       "      <th>0</th>\n",
       "      <td>makeinindia</td>\n",
       "      <td>1.099597e+18</td>\n",
       "      <td>2019-02-24 09:10:47</td>\n",
       "      <td>b'RT @DRDO_India: Indian badminton star @Pvsin...</td>\n",
       "      <td>NEGATIVE</td>\n",
       "      <td>-0.3400</td>\n",
       "      <td>0.882</td>\n",
       "      <td>0.118</td>\n",
       "      <td>0.000</td>\n",
       "    </tr>\n",
       "    <tr>\n",
       "      <th>1</th>\n",
       "      <td>makeinindia</td>\n",
       "      <td>1.099597e+18</td>\n",
       "      <td>2019-02-24 09:10:01</td>\n",
       "      <td>b'RT @narendramodi: India missed the bus when ...</td>\n",
       "      <td>NEGATIVE</td>\n",
       "      <td>-0.1531</td>\n",
       "      <td>0.932</td>\n",
       "      <td>0.068</td>\n",
       "      <td>0.000</td>\n",
       "    </tr>\n",
       "    <tr>\n",
       "      <th>2</th>\n",
       "      <td>makeinindia</td>\n",
       "      <td>1.099597e+18</td>\n",
       "      <td>2019-02-24 09:10:00</td>\n",
       "      <td>b'RT @PMOIndia: We look forward to making Indi...</td>\n",
       "      <td>NEUTRAL</td>\n",
       "      <td>0.0000</td>\n",
       "      <td>1.000</td>\n",
       "      <td>0.000</td>\n",
       "      <td>0.000</td>\n",
       "    </tr>\n",
       "    <tr>\n",
       "      <th>3</th>\n",
       "      <td>makeinindia</td>\n",
       "      <td>1.099597e+18</td>\n",
       "      <td>2019-02-24 09:09:58</td>\n",
       "      <td>b'RT @PMOIndia: We want to give our people ene...</td>\n",
       "      <td>POSITIVE</td>\n",
       "      <td>0.2263</td>\n",
       "      <td>0.701</td>\n",
       "      <td>0.077</td>\n",
       "      <td>0.221</td>\n",
       "    </tr>\n",
       "    <tr>\n",
       "      <th>4</th>\n",
       "      <td>makeinindia</td>\n",
       "      <td>1.099206e+18</td>\n",
       "      <td>2019-02-23 07:16:55</td>\n",
       "      <td>b\"RT @DDNewsHindi: \\xe0\\xa4\\xa1\\xe0\\xa5\\x80\\xe...</td>\n",
       "      <td>NEUTRAL</td>\n",
       "      <td>0.0000</td>\n",
       "      <td>1.000</td>\n",
       "      <td>0.000</td>\n",
       "      <td>0.000</td>\n",
       "    </tr>\n",
       "  </tbody>\n",
       "</table>\n",
       "</div>"
      ],
      "text/plain": [
       "    Unnamed: 0    Unnamed: 1           Unnamed: 2  \\\n",
       "0  makeinindia  1.099597e+18  2019-02-24 09:10:47   \n",
       "1  makeinindia  1.099597e+18  2019-02-24 09:10:01   \n",
       "2  makeinindia  1.099597e+18  2019-02-24 09:10:00   \n",
       "3  makeinindia  1.099597e+18  2019-02-24 09:09:58   \n",
       "4  makeinindia  1.099206e+18  2019-02-23 07:16:55   \n",
       "\n",
       "                                              tweets sentiment  \\\n",
       "0  b'RT @DRDO_India: Indian badminton star @Pvsin...  NEGATIVE   \n",
       "1  b'RT @narendramodi: India missed the bus when ...  NEGATIVE   \n",
       "2  b'RT @PMOIndia: We look forward to making Indi...   NEUTRAL   \n",
       "3  b'RT @PMOIndia: We want to give our people ene...  POSITIVE   \n",
       "4  b\"RT @DDNewsHindi: \\xe0\\xa4\\xa1\\xe0\\xa5\\x80\\xe...   NEUTRAL   \n",
       "\n",
       "   sentiment_compound_polarity  sentiment_neutral  sentiment_negative  \\\n",
       "0                      -0.3400              0.882               0.118   \n",
       "1                      -0.1531              0.932               0.068   \n",
       "2                       0.0000              1.000               0.000   \n",
       "3                       0.2263              0.701               0.077   \n",
       "4                       0.0000              1.000               0.000   \n",
       "\n",
       "   sentiment_pos  \n",
       "0          0.000  \n",
       "1          0.000  \n",
       "2          0.000  \n",
       "3          0.221  \n",
       "4          0.000  "
      ]
     },
     "execution_count": 36,
     "metadata": {},
     "output_type": "execute_result"
    }
   ],
   "source": [
    "tweets['sentiment_compound_polarity']=tweets.tweets.apply(lambda x:sid.polarity_scores(x)['compound'])\n",
    "tweets['sentiment_neutral']=tweets.tweets.apply(lambda x:sid.polarity_scores(x)['neu'])\n",
    "tweets['sentiment_negative']=tweets.tweets.apply(lambda x:sid.polarity_scores(x)['neg'])\n",
    "tweets['sentiment_pos']=tweets.tweets.apply(lambda x:sid.polarity_scores(x)['pos'])\n",
    "#tweets['sentiment_type']=''\n",
    "#tweets.loc[tweets.sentiment_compound_polarity>0,'sentiment_type']='POSITIVE'\n",
    "#tweets.loc[tweets.sentiment_compound_polarity==0,'sentiment_type']='NEUTRAL'\n",
    "#tweets.loc[tweets.sentiment_compound_polarity<0,'sentiment_type']='NEGATIVE'\n",
    "tweets['sentiment']=''\n",
    "with open ('/home/sriram/Documents/testingindia3 (another copy).csv','w') as csvfile:\n",
    "    for rows in sentiment:\n",
    "        csvwriter = csv.writer(csvfile)\n",
    "        tweets.loc[tweets.sentiment_compound_polarity>0,'sentiment']='POSITIVE'\n",
    "        tweets.loc[tweets.sentiment_compound_polarity==0,'sentiment']='NEUTRAL'\n",
    "        tweets.loc[tweets.sentiment_compound_polarity<0,'sentiment']='NEGATIVE'\n",
    "    #    csvwriter.writerows(tweets['sentiment'])\n",
    "    \n",
    "tweets.head()\n"
   ]
  },
  {
   "cell_type": "code",
   "execution_count": 17,
   "metadata": {},
   "outputs": [],
   "source": [
    "###########################3\n",
    "##############3\n",
    "#############3         mistake is with this block\n",
    "with open ('/home/sriram/Documents/sentimentanalysis/testingindia.csv','w') as csvfile:\n",
    "        #csvwriter = csv.writer(csvfile) \n",
    "    for row in tweets:\n",
    "        csvwriter = csv.writer(csvfile)\n",
    "        csvwriter.writerows(tweets['sentiment'])\n",
    "    \n",
    "    \n",
    "    \n",
    "    \n",
    "    \n",
    "    ############ this code shows negative as n e g a t i v e    one word for a column\n",
    "    "
   ]
  },
  {
   "cell_type": "code",
   "execution_count": 20,
   "metadata": {},
   "outputs": [],
   "source": [
    "###########################3\n",
    "##############3\n",
    "#############3   copy of av=bove with some modifications\n",
    "with open ('/home/sriram/Documents/testingindia3 (another copy).csv','w') as csvfile:\n",
    "        #csvwriter = csv.writer(csvfile) \n",
    "    for sentiment in tweets:\n",
    "        csvwriter = csv.writer(csvfile)\n",
    "        csvwriter.writerows(tweets['sentiment'])\n",
    "    \n",
    "    \n",
    "    \n",
    "    \n",
    "    \n",
    "    ############ this code shows negative as n e g a t i v e    one word for a column\n",
    "    "
   ]
  },
  {
   "cell_type": "code",
   "execution_count": 37,
   "metadata": {},
   "outputs": [
    {
     "name": "stdout",
     "output_type": "stream",
     "text": [
      "0     NEGATIVE\n",
      "1     NEGATIVE\n",
      "2      NEUTRAL\n",
      "3     POSITIVE\n",
      "4      NEUTRAL\n",
      "5     NEGATIVE\n",
      "6      NEUTRAL\n",
      "7      NEUTRAL\n",
      "8      NEUTRAL\n",
      "9     POSITIVE\n",
      "10     NEUTRAL\n",
      "11    POSITIVE\n",
      "12    POSITIVE\n",
      "13     NEUTRAL\n",
      "14    POSITIVE\n",
      "15    POSITIVE\n",
      "16    POSITIVE\n",
      "17     NEUTRAL\n",
      "18     NEUTRAL\n",
      "19    POSITIVE\n",
      "20    POSITIVE\n",
      "21     NEUTRAL\n",
      "22    POSITIVE\n",
      "23     NEUTRAL\n",
      "24    POSITIVE\n",
      "Name: sentiment, dtype: object\n"
     ]
    }
   ],
   "source": [
    "\n",
    "print (tweets['sentiment'])"
   ]
  },
  {
   "cell_type": "code",
   "execution_count": null,
   "metadata": {},
   "outputs": [],
   "source": []
  },
  {
   "cell_type": "code",
   "execution_count": 24,
   "metadata": {},
   "outputs": [],
   "source": [
    "tweets.columns = tweets.columns.str.strip()\n"
   ]
  },
  {
   "cell_type": "code",
   "execution_count": 38,
   "metadata": {},
   "outputs": [
    {
     "data": {
      "text/plain": [
       "Index([u'Unnamed: 0', u'Unnamed: 1', u'Unnamed: 2', u'tweets', u'sentiment',\n",
       "       u'sentiment_compound_polarity', u'sentiment_neutral',\n",
       "       u'sentiment_negative', u'sentiment_pos'],\n",
       "      dtype='object')"
      ]
     },
     "execution_count": 38,
     "metadata": {},
     "output_type": "execute_result"
    }
   ],
   "source": [
    "tweets.columns"
   ]
  },
  {
   "cell_type": "code",
   "execution_count": 41,
   "metadata": {},
   "outputs": [
    {
     "data": {
      "text/plain": [
       "<matplotlib.axes._subplots.AxesSubplot at 0x7f2f2f7eb790>"
      ]
     },
     "execution_count": 41,
     "metadata": {},
     "output_type": "execute_result"
    },
    {
     "data": {
      "image/png": "[encoded data removed]",
      "text/plain": [
       "<Figure size 432x288 with 1 Axes>"
      ]
     },
     "metadata": {
      "needs_background": "light"
     },
     "output_type": "display_data"
    }
   ],
   "source": [
    "tweets.sentiment.value_counts().plot(kind='bar',title=\"sentiment analysis\")\n"
   ]
  }
 ],
 "metadata": {
  "kernelspec": {
   "display_name": "Python 2",
   "language": "python",
   "name": "python2"
  },
  "language_info": {
   "codemirror_mode": {
    "name": "ipython",
    "version": 2
   },
   "file_extension": ".py",
   "mimetype": "text/x-python",
   "name": "python",
   "nbconvert_exporter": "python",
   "pygments_lexer": "ipython2",
   "version": "2.7.15"
  }
 },
 "nbformat": 4,
 "nbformat_minor": 2
}
